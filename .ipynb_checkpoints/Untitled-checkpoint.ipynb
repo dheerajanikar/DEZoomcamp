{
 "cells": [
  {
   "cell_type": "code",
   "execution_count": 3,
   "id": "6037e79a-8d57-4331-97f6-58e843f644fc",
   "metadata": {},
   "outputs": [
    {
     "name": "stdout",
     "output_type": "stream",
     "text": [
      "hello world in codespaces\n"
     ]
    }
   ],
   "source": [
    "print(\"hello world in codespaces\")"
   ]
  },
  {
   "cell_type": "code",
   "execution_count": null,
   "id": "3ed16b75-2e3d-4f4b-b0ca-44798184b7a1",
   "metadata": {},
   "outputs": [],
   "source": []
  }
 ],
 "metadata": {
  "kernelspec": {
   "display_name": "Python 3 (ipykernel)",
   "language": "python",
   "name": "python3"
  },
  "language_info": {
   "codemirror_mode": {
    "name": "ipython",
    "version": 3
   },
   "file_extension": ".py",
   "mimetype": "text/x-python",
   "name": "python",
   "nbconvert_exporter": "python",
   "pygments_lexer": "ipython3",
   "version": "3.10.13"
  }
 },
 "nbformat": 4,
 "nbformat_minor": 5
}
